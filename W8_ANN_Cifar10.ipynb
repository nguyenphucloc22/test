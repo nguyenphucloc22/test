{
  "nbformat": 4,
  "nbformat_minor": 0,
  "metadata": {
    "colab": {
      "provenance": [],
      "authorship_tag": "ABX9TyNxg5UnX12AjTQF8XmFzM+M",
      "include_colab_link": true
    },
    "kernelspec": {
      "name": "python3",
      "display_name": "Python 3"
    },
    "language_info": {
      "name": "python"
    }
  },
  "cells": [
    {
      "cell_type": "markdown",
      "metadata": {
        "id": "view-in-github",
        "colab_type": "text"
      },
      "source": [
        "<a href=\"https://colab.research.google.com/github/nguyenphucloc22/test/blob/main/W8_ANN_Cifar10.ipynb\" target=\"_parent\"><img src=\"https://colab.research.google.com/assets/colab-badge.svg\" alt=\"Open In Colab\"/></a>"
      ]
    },
    {
      "cell_type": "code",
      "execution_count": 1,
      "metadata": {
        "id": "NUXnGkfcV3Kr"
      },
      "outputs": [],
      "source": [
        "from keras.datasets import cifar10\n",
        "import matplotlib.pyplot as plt\n",
        "from keras.models import Sequential\n",
        "from keras.layers import Dense\n",
        "from keras.utils import to_categorical \n",
        "from keras.models import load_model\n",
        "import numpy as np"
      ]
    },
    {
      "cell_type": "code",
      "source": [
        "(train_images, train_labels), (test_images, test_labels) = cifar10.load_data()"
      ],
      "metadata": {
        "colab": {
          "base_uri": "https://localhost:8080/"
        },
        "id": "0qjhoEN8WGSr",
        "outputId": "c0fb2ffc-d91a-4c20-ff2c-668e0ec0cfbc"
      },
      "execution_count": 2,
      "outputs": [
        {
          "output_type": "stream",
          "name": "stdout",
          "text": [
            "Downloading data from https://www.cs.toronto.edu/~kriz/cifar-10-python.tar.gz\n",
            "170498071/170498071 [==============================] - 6s 0us/step\n"
          ]
        }
      ]
    },
    {
      "cell_type": "code",
      "source": [
        "train_images.shape, test_images.shape"
      ],
      "metadata": {
        "colab": {
          "base_uri": "https://localhost:8080/"
        },
        "id": "33Rx_DxjWLEE",
        "outputId": "69bfef6c-2149-4e18-946a-5c8674a5f754"
      },
      "execution_count": 3,
      "outputs": [
        {
          "output_type": "execute_result",
          "data": {
            "text/plain": [
              "((50000, 32, 32, 3), (10000, 32, 32, 3))"
            ]
          },
          "metadata": {},
          "execution_count": 3
        }
      ]
    },
    {
      "cell_type": "code",
      "source": [
        "hinh = train_images[50]\n",
        "plt.imshow(hinh, cmap = plt.cm.binary)\n",
        "plt.show"
      ],
      "metadata": {
        "colab": {
          "base_uri": "https://localhost:8080/",
          "height": 283
        },
        "id": "aTpqKTlIWO9m",
        "outputId": "3747f7eb-3973-476d-b0df-55af23272e00"
      },
      "execution_count": 4,
      "outputs": [
        {
          "output_type": "execute_result",
          "data": {
            "text/plain": [
              "<function matplotlib.pyplot.show(close=None, block=None)>"
            ]
          },
          "metadata": {},
          "execution_count": 4
        },
        {
          "output_type": "display_data",
          "data": {
            "text/plain": [
              "<Figure size 432x288 with 1 Axes>"
            ],
            "image/png": "[encoded data removed]"
          },
          "metadata": {
            "needs_background": "light"
          }
        }
      ]
    },
    {
      "cell_type": "code",
      "source": [
        "train_images = train_images.reshape((50000,32*32*3)) \n",
        "train_images = train_images.astype('float32')/255 \n",
        "test_images =  test_images.reshape((10000, 32*32*3)) \n",
        "test_images = test_images.astype('float32')/255\n",
        "train_images.shape"
      ],
      "metadata": {
        "colab": {
          "base_uri": "https://localhost:8080/"
        },
        "id": "oWcCDOU2WfPU",
        "outputId": "334f8d83-86f1-4dd9-cb31-b0251bef762b"
      },
      "execution_count": 5,
      "outputs": [
        {
          "output_type": "execute_result",
          "data": {
            "text/plain": [
              "(50000, 3072)"
            ]
          },
          "metadata": {},
          "execution_count": 5
        }
      ]
    },
    {
      "cell_type": "code",
      "source": [
        "train_labels = to_categorical(train_labels, 10) \n",
        "test_labels = to_categorical(test_labels, 10)\n",
        "print(train_labels.shape)\n",
        "print(test_labels.shape)"
      ],
      "metadata": {
        "colab": {
          "base_uri": "https://localhost:8080/"
        },
        "id": "AWhsH62nWk1v",
        "outputId": "365b62a9-dd2f-416c-d1b8-249bd618bf0f"
      },
      "execution_count": 6,
      "outputs": [
        {
          "output_type": "stream",
          "name": "stdout",
          "text": [
            "(50000, 10)\n",
            "(10000, 10)\n"
          ]
        }
      ]
    },
    {
      "cell_type": "code",
      "source": [
        "model = Sequential()\n",
        "model.add(Dense(512,input_shape = (32*32*3,), activation='relu', name=\"Layer_1\"))\n",
        "model.add(Dense(256, activation='relu', name=\"Layer_2\"))\n",
        "model.add(Dense(128, activation='relu', name=\"Layer_3\"))\n",
        "model.add(Dense(64, activation='relu', name=\"Layer_4\"))\n",
        "model.add(Dense(10,activation='softmax', name = \"Output_layer\"))\n",
        "print(model.summary())"
      ],
      "metadata": {
        "colab": {
          "base_uri": "https://localhost:8080/"
        },
        "id": "huVtEwMPWs-f",
        "outputId": "919e0828-912b-4b75-94b4-ba45a450c00d"
      },
      "execution_count": 7,
      "outputs": [
        {
          "output_type": "stream",
          "name": "stdout",
          "text": [
            "Model: \"sequential\"\n",
            "_________________________________________________________________\n",
            " Layer (type)                Output Shape              Param #   \n",
            "=================================================================\n",
            " Layer_1 (Dense)             (None, 512)               1573376   \n",
            "                                                                 \n",
            " Layer_2 (Dense)             (None, 256)               131328    \n",
            "                                                                 \n",
            " Layer_3 (Dense)             (None, 128)               32896     \n",
            "                                                                 \n",
            " Layer_4 (Dense)             (None, 64)                8256      \n",
            "                                                                 \n",
            " Output_layer (Dense)        (None, 10)                650       \n",
            "                                                                 \n",
            "=================================================================\n",
            "Total params: 1,746,506\n",
            "Trainable params: 1,746,506\n",
            "Non-trainable params: 0\n",
            "_________________________________________________________________\n",
            "None\n"
          ]
        }
      ]
    },
    {
      "cell_type": "code",
      "source": [
        "model.compile(optimizer='rmsprop', loss='categorical_crossentropy',metrics=['accuracy'])\n",
        "model.fit(train_images, train_labels, epochs=10, batch_size=128)"
      ],
      "metadata": {
        "colab": {
          "base_uri": "https://localhost:8080/"
        },
        "id": "vjUeKKVCWu92",
        "outputId": "4efb8199-6bdd-4289-83c4-e7dcbb4df2fc"
      },
      "execution_count": 8,
      "outputs": [
        {
          "output_type": "stream",
          "name": "stdout",
          "text": [
            "Epoch 1/10\n",
            "391/391 [==============================] - 19s 45ms/step - loss: 2.0451 - accuracy: 0.2548\n",
            "Epoch 2/10\n",
            "391/391 [==============================] - 13s 34ms/step - loss: 1.8065 - accuracy: 0.3466\n",
            "Epoch 3/10\n",
            "391/391 [==============================] - 14s 36ms/step - loss: 1.7065 - accuracy: 0.3882\n",
            "Epoch 4/10\n",
            "391/391 [==============================] - 18s 47ms/step - loss: 1.6419 - accuracy: 0.4119\n",
            "Epoch 5/10\n",
            "391/391 [==============================] - 15s 37ms/step - loss: 1.5882 - accuracy: 0.4297\n",
            "Epoch 6/10\n",
            "391/391 [==============================] - 13s 34ms/step - loss: 1.5449 - accuracy: 0.4482\n",
            "Epoch 7/10\n",
            "391/391 [==============================] - 13s 34ms/step - loss: 1.5125 - accuracy: 0.4577\n",
            "Epoch 8/10\n",
            "391/391 [==============================] - 15s 38ms/step - loss: 1.4792 - accuracy: 0.4712\n",
            "Epoch 9/10\n",
            "391/391 [==============================] - 14s 36ms/step - loss: 1.4417 - accuracy: 0.4848\n",
            "Epoch 10/10\n",
            "391/391 [==============================] - 14s 36ms/step - loss: 1.4198 - accuracy: 0.4927\n"
          ]
        },
        {
          "output_type": "execute_result",
          "data": {
            "text/plain": [
              "<keras.callbacks.History at 0x7fc2f3e5cd30>"
            ]
          },
          "metadata": {},
          "execution_count": 8
        }
      ]
    }
  ]
}