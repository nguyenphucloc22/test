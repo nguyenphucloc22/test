{
  "nbformat": 4,
  "nbformat_minor": 0,
  "metadata": {
    "colab": {
      "provenance": [],
      "authorship_tag": "ABX9TyNCvGXR/2gcf1PNK5YNfxXp",
      "include_colab_link": true
    },
    "kernelspec": {
      "name": "python3",
      "display_name": "Python 3"
    },
    "language_info": {
      "name": "python"
    }
  },
  "cells": [
    {
      "cell_type": "markdown",
      "metadata": {
        "id": "view-in-github",
        "colab_type": "text"
      },
      "source": [
        "<a href=\"https://colab.research.google.com/github/nguyenphucloc22/test/blob/main/Intelligent_Size_Matching_Recommender_System_Fuzzy_Logic_.ipynb\" target=\"_parent\"><img src=\"https://colab.research.google.com/assets/colab-badge.svg\" alt=\"Open In Colab\"/></a>"
      ]
    },
    {
      "cell_type": "code",
      "source": [
        "pip install scikit-fuzzy \n"
      ],
      "metadata": {
        "colab": {
          "base_uri": "https://localhost:8080/"
        },
        "id": "ZymcNbxwENwn",
        "outputId": "285c586b-443c-4d5e-9d39-9c3232d767a9"
      },
      "execution_count": 2,
      "outputs": [
        {
          "output_type": "stream",
          "name": "stdout",
          "text": [
            "Looking in indexes: https://pypi.org/simple, https://us-python.pkg.dev/colab-wheels/public/simple/\n",
            "Collecting scikit-fuzzy\n",
            "  Downloading scikit-fuzzy-0.4.2.tar.gz (993 kB)\n",
            "\u001b[2K     \u001b[90m━━━━━━━━━━━━━━━━━━━━━━━━━━━━━━━━━━━━━━\u001b[0m \u001b[32m994.0/994.0 KB\u001b[0m \u001b[31m13.3 MB/s\u001b[0m eta \u001b[36m0:00:00\u001b[0m\n",
            "\u001b[?25h  Preparing metadata (setup.py) ... \u001b[?25l\u001b[?25hdone\n",
            "Requirement already satisfied: numpy>=1.6.0 in /usr/local/lib/python3.9/dist-packages (from scikit-fuzzy) (1.22.4)\n",
            "Requirement already satisfied: scipy>=0.9.0 in /usr/local/lib/python3.9/dist-packages (from scikit-fuzzy) (1.10.1)\n",
            "Requirement already satisfied: networkx>=1.9.0 in /usr/local/lib/python3.9/dist-packages (from scikit-fuzzy) (3.0)\n",
            "Building wheels for collected packages: scikit-fuzzy\n",
            "  Building wheel for scikit-fuzzy (setup.py) ... \u001b[?25l\u001b[?25hdone\n",
            "  Created wheel for scikit-fuzzy: filename=scikit_fuzzy-0.4.2-py3-none-any.whl size=894088 sha256=470914bcca30b3bd6d1d478269bcb3445330db67c1e78717179f019324baa541\n",
            "  Stored in directory: /root/.cache/pip/wheels/32/2c/a1/a90a7d7dd8448ec029f298a61f3490275e99b17aa348be675c\n",
            "Successfully built scikit-fuzzy\n",
            "Installing collected packages: scikit-fuzzy\n",
            "Successfully installed scikit-fuzzy-0.4.2\n"
          ]
        }
      ]
    },
    {
      "cell_type": "code",
      "source": [
        "import numpy as np\n",
        "import skfuzzy as fuzz\n",
        "import matplotlib.pyplot as plt\n",
        "import skfuzzy as fuzz\n",
        "from skfuzzy import control as ctrl\n",
        "%matplotlib inline\n",
        "#INPUT\n",
        "x_height=np.linspace(80,150,num=150)\n",
        "x_weight=np.linspace(18,40,num=100)\n",
        "x_chest=np.linspace(49.2,85.2,num=100)\n",
        "x_waist=np.linspace(45,66,num=100)\n",
        "x_size=np.linspace(5,14,num=100)\n",
        "height=ctrl.Antecedent(x_height,\"height\")\n",
        "weight=ctrl.Antecedent(x_weight,\"weight\")\n",
        "chest=ctrl.Antecedent(x_chest,\"chest\")\n",
        "waist=ctrl.Antecedent(x_waist,\"waist\")\n",
        "size=ctrl.Consequent(x_size,\"size\")\n",
        "names_height=['low','medium','high']\n",
        "names_weight=['low','medium','high']\n",
        "names_chest=['low','medium','high']\n",
        "names_waist=[\"low\",'medium','high']\n",
        "names_size=['small','medium','big']\n",
        "size[\"small\"]=fuzz.trimf(size.universe,[5,5,7])\n",
        "size[\"medium\"]=fuzz.trimf(size.universe,[5,7,14])\n",
        "size[\"big\"]=fuzz.trimf(size.universe,[7,14,14])\n",
        "height.automf(names=names_height)\n",
        "weight.automf(names=names_weight)\n",
        "chest.automf(names=names_chest)\n",
        "waist.automf(names=names_waist)\n",
        "size.automf(names=names_size)\n",
        "rule1 = ctrl.Rule(height['high'] & waist['high']& chest['high']& weight['high'], size['big'])\n",
        "rule2 = ctrl.Rule(height['high'] & waist['medium']& chest['medium']& weight['medium'], size['medium'])\n",
        "rule3 = ctrl.Rule(height['high'] & waist['low']& chest['low']& weight['low'], size['small'])\n",
        "\n",
        "rule4 = ctrl.Rule(height['medium'] & waist['high']& chest['high']& weight['high'], size['medium'])\n",
        "rule5 = ctrl.Rule(height['medium'] & waist['medium']& chest['medium']& weight['medium'], size['medium'])\n",
        "rule6 = ctrl.Rule(height['medium'] & waist['low']& chest['low']& weight['low'], size['small'])\n",
        "\n",
        "rule7 = ctrl.Rule(height['low'] & waist['high']& chest['high']& weight['high'], size['big'])\n",
        "rule8 = ctrl.Rule(height['low'] & waist['medium']& chest['medium']& weight['medium'], size['medium'])\n",
        "rule9 = ctrl.Rule(height['low'] & waist['low']& chest['low']& weight['low'], size['small'])\n",
        "\n",
        "rule10 = ctrl.Rule(height['high'] & waist['high']& chest['high']& weight['low'], size['medium'])\n",
        "rule11 = ctrl.Rule(height['high'] & waist['high']& chest['high']& weight['medium'], size['big'])\n",
        "rule12= ctrl.Rule(height['high'] & waist['high']& chest['medium']& weight['high'], size['big'])\n",
        "rule13= ctrl.Rule(height['high'] & waist['high']& chest['medium']& weight['low'], size['big'])\n",
        "rule14= ctrl.Rule(height['high'] & waist['high']& chest['low']& weight['high'], size['big'])\n",
        "rule15= ctrl.Rule(height['high'] & waist['high']& chest['low']& weight['low'], size['medium'])\n",
        "\n",
        "rule16= ctrl.Rule(height['low'] & waist['low']& chest['high']& weight['high'], size['medium'])\n",
        "rule17= ctrl.Rule(height['low'] & waist['low']& chest['medium']& weight['medium'], size['medium'])\n",
        "rule18= ctrl.Rule(height['low'] & waist['low']& chest['medium']& weight['high'], size['medium'])\n",
        "\n",
        "rule19= ctrl.Rule(height['medium'] & waist['medium']& chest['high']& weight['high'], size['medium'])\n",
        "rule20= ctrl.Rule(height['medium'] & waist['medium']& chest['low']& weight['low'], size['small'])\n",
        "\n",
        "system_ctrl=ctrl.ControlSystem(rules=[rule1,rule2,rule3,rule4,rule5,rule6,rule7,rule8,rule9,rule10,rule11,rule12,rule13,rule14,rule15,rule16,rule17,rule18,rule19,rule20])\n",
        "system=ctrl.ControlSystemSimulation(system_ctrl)\n",
        "system.input['height'] = 80\n",
        "system.input['weight'] = 27\n",
        "system.input['waist'] = 35\n",
        "system.input['chest'] = 50\n",
        "system.compute()\n",
        "print(system.output['size'])\n",
        "size.view(sim=system)\n",
        "\n"
      ],
      "metadata": {
        "colab": {
          "base_uri": "https://localhost:8080/",
          "height": 298
        },
        "id": "QDJSmhcdHdUu",
        "outputId": "d5d6ef2f-6a13-447a-d136-9aa544047a87"
      },
      "execution_count": 8,
      "outputs": [
        {
          "output_type": "stream",
          "name": "stdout",
          "text": [
            "8.026834811476013\n"
          ]
        },
        {
          "output_type": "display_data",
          "data": {
            "text/plain": [
              "<Figure size 432x288 with 1 Axes>"
            ],
            "image/png": "[encoded data removed]"
          },
          "metadata": {
            "needs_background": "light"
          }
        }
      ]
    }
  ]
}