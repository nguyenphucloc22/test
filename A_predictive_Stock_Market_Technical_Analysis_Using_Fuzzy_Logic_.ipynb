{
  "nbformat": 4,
  "nbformat_minor": 0,
  "metadata": {
    "colab": {
      "provenance": [],
      "authorship_tag": "ABX9TyMZZQ2tqAXKAU9+RmN9WSKF",
      "include_colab_link": true
    },
    "kernelspec": {
      "name": "python3",
      "display_name": "Python 3"
    },
    "language_info": {
      "name": "python"
    }
  },
  "cells": [
    {
      "cell_type": "markdown",
      "metadata": {
        "id": "view-in-github",
        "colab_type": "text"
      },
      "source": [
        "<a href=\"https://colab.research.google.com/github/nguyenphucloc22/test/blob/main/A_predictive_Stock_Market_Technical_Analysis_Using_Fuzzy_Logic_.ipynb\" target=\"_parent\"><img src=\"https://colab.research.google.com/assets/colab-badge.svg\" alt=\"Open In Colab\"/></a>"
      ]
    },
    {
      "cell_type": "code",
      "source": [
        "pip install scikit-fuzzy \n"
      ],
      "metadata": {
        "colab": {
          "base_uri": "https://localhost:8080/"
        },
        "id": "ZymcNbxwENwn",
        "outputId": "285c586b-443c-4d5e-9d39-9c3232d767a9"
      },
      "execution_count": 2,
      "outputs": [
        {
          "output_type": "stream",
          "name": "stdout",
          "text": [
            "Looking in indexes: https://pypi.org/simple, https://us-python.pkg.dev/colab-wheels/public/simple/\n",
            "Collecting scikit-fuzzy\n",
            "  Downloading scikit-fuzzy-0.4.2.tar.gz (993 kB)\n",
            "\u001b[2K     \u001b[90m━━━━━━━━━━━━━━━━━━━━━━━━━━━━━━━━━━━━━━\u001b[0m \u001b[32m994.0/994.0 KB\u001b[0m \u001b[31m13.3 MB/s\u001b[0m eta \u001b[36m0:00:00\u001b[0m\n",
            "\u001b[?25h  Preparing metadata (setup.py) ... \u001b[?25l\u001b[?25hdone\n",
            "Requirement already satisfied: numpy>=1.6.0 in /usr/local/lib/python3.9/dist-packages (from scikit-fuzzy) (1.22.4)\n",
            "Requirement already satisfied: scipy>=0.9.0 in /usr/local/lib/python3.9/dist-packages (from scikit-fuzzy) (1.10.1)\n",
            "Requirement already satisfied: networkx>=1.9.0 in /usr/local/lib/python3.9/dist-packages (from scikit-fuzzy) (3.0)\n",
            "Building wheels for collected packages: scikit-fuzzy\n",
            "  Building wheel for scikit-fuzzy (setup.py) ... \u001b[?25l\u001b[?25hdone\n",
            "  Created wheel for scikit-fuzzy: filename=scikit_fuzzy-0.4.2-py3-none-any.whl size=894088 sha256=470914bcca30b3bd6d1d478269bcb3445330db67c1e78717179f019324baa541\n",
            "  Stored in directory: /root/.cache/pip/wheels/32/2c/a1/a90a7d7dd8448ec029f298a61f3490275e99b17aa348be675c\n",
            "Successfully built scikit-fuzzy\n",
            "Installing collected packages: scikit-fuzzy\n",
            "Successfully installed scikit-fuzzy-0.4.2\n"
          ]
        }
      ]
    },
    {
      "cell_type": "code",
      "source": [
        "import numpy as np\n",
        "import skfuzzy as fuzz\n",
        "import matplotlib.pyplot as plt\n",
        "import skfuzzy as fuzz\n",
        "from skfuzzy import control as ctrl\n",
        "%matplotlib inline\n",
        "#INPUT\n",
        "X_MACD=np.linspace(-1000,1000,num=1000)\n",
        "X_RSI=np.linspace(0,140,num=200)\n",
        "X_SO=np.linspace(0,160,num=200)\n",
        "X_OBV=np.linspace(-500,500,num=500)\n",
        "X_RECOMENDATION=np.linspace(0,30,num=100)\n",
        "MACD=ctrl.Antecedent(X_MACD,\"MACD\")\n",
        "RSI=ctrl.Antecedent(X_MACD,\"RSI\")\n",
        "SO=ctrl.Antecedent(X_MACD,\"SO\")\n",
        "OBV=ctrl.Antecedent(X_MACD,\"OBV\")\n",
        "RECOMENDATION=ctrl.Consequent(X_RECOMENDATION,\"RECOMENDATION\")\n",
        "names_MACD=['Low','High']\n",
        "names_RSI=['Low','Medium','High']\n",
        "names_SO=['Low','Medium','High']\n",
        "names_OBV=[\"Low\",'High']\n",
        "names_RECOMENDATION=['sell','hold','buy']\n",
        "MACD.automf(names=names_MACD)\n",
        "RSI.automf(names=names_RSI)\n",
        "SO.automf(names=names_SO)\n",
        "OBV.automf(names=names_OBV)\n",
        "RECOMENDATION.automf(names=names_RECOMENDATION)\n",
        "rule1 = ctrl.Rule(MACD['High'] & RSI['High']& SO['High']& OBV['High'], RECOMENDATION['sell'])\n",
        "rule2 = ctrl.Rule(MACD['High'] & RSI['High']& SO['Medium']& OBV['High'], RECOMENDATION['sell'])\n",
        "rule3 = ctrl.Rule(MACD['High'] & RSI['High']& SO['Low']& OBV['High'], RECOMENDATION['sell'])\n",
        "rule4 = ctrl.Rule(MACD['High'] & RSI['Medium']& SO['High']& OBV['High'], RECOMENDATION['sell'])\n",
        "rule5 = ctrl.Rule(MACD['High'] & RSI['Medium']& SO['Medium']& OBV['Low'], RECOMENDATION['sell'])\n",
        "rule6 = ctrl.Rule(MACD['High'] & RSI['Medium']& SO['Low']& OBV['Low'], RECOMENDATION['hold'])\n",
        "rule7 = ctrl.Rule(MACD['Low'] & RSI['Low']& SO['High']& OBV['Low'], RECOMENDATION['buy'])\n",
        "rule8 = ctrl.Rule(MACD['Low'] & RSI['Low']& SO['Medium']& OBV['Low'], RECOMENDATION['buy'])\n",
        "rule9 = ctrl.Rule(MACD['Low'] & RSI['Medium']& SO['High']& OBV['High'], RECOMENDATION['buy'])\n",
        "rule10 = ctrl.Rule(MACD['Low'] & RSI['Medium']& SO['Medium']& OBV['Low'], RECOMENDATION['hold'])\n",
        "rule11= ctrl.Rule(MACD['Low'] & RSI['Medium']& SO['Low']& OBV['Low'], RECOMENDATION['buy'])\n",
        "rule12 = ctrl.Rule(MACD['Low'] & RSI['High']& SO['Low']& OBV['High'], RECOMENDATION['buy'])\n",
        "system_ctrl=ctrl.ControlSystem(rules=[rule1,rule2,rule3,rule4,rule5,rule6,rule7,rule8,rule9,rule10,rule11,rule12])\n",
        "system=ctrl.ControlSystemSimulation(system_ctrl)\n",
        "system.input['MACD'] = 500\n",
        "system.input['RSI'] = 100\n",
        "system.input['SO'] = 150\n",
        "system.input['OBV'] = 200\n",
        "system.compute()\n",
        "print(system.output['RECOMENDATION'])\n",
        "RECOMENDATION.view(sim=system)\n",
        "\n"
      ],
      "metadata": {
        "colab": {
          "base_uri": "https://localhost:8080/",
          "height": 298
        },
        "id": "O5pYHZm1HrNU",
        "outputId": "c61dfd1d-40bb-430a-fa80-1c4973ae85c4"
      },
      "execution_count": 9,
      "outputs": [
        {
          "output_type": "stream",
          "name": "stdout",
          "text": [
            "12.810363199226463\n"
          ]
        },
        {
          "output_type": "display_data",
          "data": {
            "text/plain": [
              "<Figure size 432x288 with 1 Axes>"
            ],
            "image/png": "[encoded data removed]"
          },
          "metadata": {
            "needs_background": "light"
          }
        }
      ]
    }
  ]
}