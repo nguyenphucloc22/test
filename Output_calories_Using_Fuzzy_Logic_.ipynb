{
  "nbformat": 4,
  "nbformat_minor": 0,
  "metadata": {
    "colab": {
      "provenance": [],
      "authorship_tag": "ABX9TyM5UIzFBjxGI6rid0UiLwrR",
      "include_colab_link": true
    },
    "kernelspec": {
      "name": "python3",
      "display_name": "Python 3"
    },
    "language_info": {
      "name": "python"
    }
  },
  "cells": [
    {
      "cell_type": "markdown",
      "metadata": {
        "id": "view-in-github",
        "colab_type": "text"
      },
      "source": [
        "<a href=\"https://colab.research.google.com/github/nguyenphucloc22/test/blob/main/Output_calories_Using_Fuzzy_Logic_.ipynb\" target=\"_parent\"><img src=\"https://colab.research.google.com/assets/colab-badge.svg\" alt=\"Open In Colab\"/></a>"
      ]
    },
    {
      "cell_type": "code",
      "source": [
        "pip install scikit-fuzzy \n"
      ],
      "metadata": {
        "colab": {
          "base_uri": "https://localhost:8080/"
        },
        "id": "ZymcNbxwENwn",
        "outputId": "285c586b-443c-4d5e-9d39-9c3232d767a9"
      },
      "execution_count": 2,
      "outputs": [
        {
          "output_type": "stream",
          "name": "stdout",
          "text": [
            "Looking in indexes: https://pypi.org/simple, https://us-python.pkg.dev/colab-wheels/public/simple/\n",
            "Collecting scikit-fuzzy\n",
            "  Downloading scikit-fuzzy-0.4.2.tar.gz (993 kB)\n",
            "\u001b[2K     \u001b[90m━━━━━━━━━━━━━━━━━━━━━━━━━━━━━━━━━━━━━━\u001b[0m \u001b[32m994.0/994.0 KB\u001b[0m \u001b[31m13.3 MB/s\u001b[0m eta \u001b[36m0:00:00\u001b[0m\n",
            "\u001b[?25h  Preparing metadata (setup.py) ... \u001b[?25l\u001b[?25hdone\n",
            "Requirement already satisfied: numpy>=1.6.0 in /usr/local/lib/python3.9/dist-packages (from scikit-fuzzy) (1.22.4)\n",
            "Requirement already satisfied: scipy>=0.9.0 in /usr/local/lib/python3.9/dist-packages (from scikit-fuzzy) (1.10.1)\n",
            "Requirement already satisfied: networkx>=1.9.0 in /usr/local/lib/python3.9/dist-packages (from scikit-fuzzy) (3.0)\n",
            "Building wheels for collected packages: scikit-fuzzy\n",
            "  Building wheel for scikit-fuzzy (setup.py) ... \u001b[?25l\u001b[?25hdone\n",
            "  Created wheel for scikit-fuzzy: filename=scikit_fuzzy-0.4.2-py3-none-any.whl size=894088 sha256=470914bcca30b3bd6d1d478269bcb3445330db67c1e78717179f019324baa541\n",
            "  Stored in directory: /root/.cache/pip/wheels/32/2c/a1/a90a7d7dd8448ec029f298a61f3490275e99b17aa348be675c\n",
            "Successfully built scikit-fuzzy\n",
            "Installing collected packages: scikit-fuzzy\n",
            "Successfully installed scikit-fuzzy-0.4.2\n"
          ]
        }
      ]
    },
    {
      "cell_type": "code",
      "source": [
        "import numpy as np\n",
        "import skfuzzy.control as ctrl\n",
        "cacbohydrate= np.linspace(90, 100, num=100)\n",
        "protein= np.linspace(20, 90, num=100)\n",
        "fat = np.linspace(15, 25, num=10)\n",
        "calories = np.linspace(90, 690, num=100)\n",
        "cacbohydrate = ctrl.Antecedent(cacbohydrate, 'cacbohydrate')\n",
        "protein = ctrl.Antecedent(protein, 'protein')\n",
        "fat = ctrl.Antecedent(fat, 'fat')\n",
        "calories = ctrl.Consequent(calories, 'calories')\n",
        "names_cacbohydrate = ['high','low', 'medium']\n",
        "names_protein = ['high','low', 'medium']\n",
        "names_fat = ['high','low', 'medium']\n",
        "names_calories = ['high','low', 'medium']\n",
        "cacbohydrate.automf(names=names_cacbohydrate)\n",
        "protein.automf(names=names_protein)\n",
        "fat.automf(names=names_fat)\n",
        "calories.automf(names=names_calories)\n",
        "rule1 = ctrl.Rule(cacbohydrate['high'] & protein['high'] & fat['high'], calories['high'])\n",
        "rule2 = ctrl.Rule(cacbohydrate['high'] & protein['high'] & fat['medium'], calories['medium'])\n",
        "rule3 = ctrl.Rule(cacbohydrate['high'] & protein['high'] & fat['low'], calories['medium'])\n",
        "rule4 = ctrl.Rule(cacbohydrate['high'] & protein['medium'] & fat['medium'], calories['medium'])\n",
        "rule5 = ctrl.Rule(cacbohydrate['high'] & protein['medium'] & fat['high'], calories['medium'])\n",
        "rule6 = ctrl.Rule(cacbohydrate['high'] & protein['medium'] & fat['low'], calories['medium'])\n",
        "rule7 = ctrl.Rule(cacbohydrate['high'] & protein['low'] & fat['low'], calories['low'])\n",
        "rule8 = ctrl.Rule(cacbohydrate['high'] & protein['low'] & fat['medium'], calories['medium'])\n",
        "rule9 = ctrl.Rule(cacbohydrate['high'] & protein['low'] & fat['high'], calories['medium'])\n",
        "rule10 = ctrl.Rule(cacbohydrate['medium'] & protein['high'] & fat['high'], calories['high'])\n",
        "rule11 = ctrl.Rule(cacbohydrate['medium'] & protein['high'] & fat['medium'], calories['medium'])\n",
        "rule12 = ctrl.Rule(cacbohydrate['medium'] & protein['high'] & fat['low'], calories['medium'])\n",
        "rule13 = ctrl.Rule(cacbohydrate['medium'] & protein['medium'] & fat['medium'], calories['medium'])\n",
        "rule14 = ctrl.Rule(cacbohydrate['medium'] & protein['medium'] & fat['high'], calories['high'])\n",
        "rule15 = ctrl.Rule(cacbohydrate['medium'] & protein['medium'] & fat['low'], calories['medium'])\n",
        "rule16 = ctrl.Rule(cacbohydrate['medium'] & protein['low'] & fat['low'], calories['low'])\n",
        "rule17 = ctrl.Rule(cacbohydrate['medium'] & protein['low'] & fat['medium'], calories['medium'])\n",
        "rule18 = ctrl.Rule(cacbohydrate['medium'] & protein['low'] & fat['high'], calories['medium'])\n",
        "rule19 = ctrl.Rule(cacbohydrate['low'] & protein['high'] & fat['high'], calories['medium'])\n",
        "rule20 = ctrl.Rule(cacbohydrate['low'] & protein['high'] & fat['medium'], calories['medium'])\n",
        "rule21 = ctrl.Rule(cacbohydrate['low'] & protein['high'] & fat['low'], calories['medium'])\n",
        "rule22 = ctrl.Rule(cacbohydrate['low'] & protein['medium'] & fat['medium'], calories['low'])\n",
        "rule23 = ctrl.Rule(cacbohydrate['low'] & protein['medium'] & fat['high'], calories['medium'])\n",
        "rule24 = ctrl.Rule(cacbohydrate['low'] & protein['medium'] & fat['low'], calories['low'])\n",
        "rule25 = ctrl.Rule(cacbohydrate['low'] & protein['low'] & fat['low'], calories['low'])\n",
        "rule26 = ctrl.Rule(cacbohydrate['low'] & protein['low'] & fat['medium'], calories['low'])\n",
        "rule27 = ctrl.Rule(cacbohydrate['low'] & protein['low'] & fat['high'], calories['medium'])\n",
        "system_ctrl= ctrl.ControlSystem(rules=[rule1, rule1, rule2, rule3, rule4, rule5,rule6, rule7, rule8, rule9, rule10, rule11, rule12, rule13, rule14, rule15, rule16, rule17, rule18, rule19, rule20, rule21, rule22, rule23, rule24, rule25, rule26, rule27])\n",
        "system=ctrl.ControlSystemSimulation(system_ctrl)\n",
        "system.input['cacbohydrate']=300\n",
        "system.input['protein']=25\n",
        "system.input['fat']=18\n",
        "system.compute()\n",
        "print(system.output['calories'])\n",
        "calories.view(sim=system)\n",
        "\n"
      ],
      "metadata": {
        "colab": {
          "base_uri": "https://localhost:8080/",
          "height": 298
        },
        "id": "kUJs8G4sIMAe",
        "outputId": "9e17f52c-9397-4b51-a70f-70d41c32632f"
      },
      "execution_count": 10,
      "outputs": [
        {
          "output_type": "stream",
          "name": "stdout",
          "text": [
            "419.4539922240379\n"
          ]
        },
        {
          "output_type": "display_data",
          "data": {
            "text/plain": [
              "<Figure size 432x288 with 1 Axes>"
            ],
            "image/png": "[encoded data removed]"
          },
          "metadata": {
            "needs_background": "light"
          }
        }
      ]
    }
  ]
}