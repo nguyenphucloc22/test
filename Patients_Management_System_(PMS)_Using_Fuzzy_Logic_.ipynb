{
  "nbformat": 4,
  "nbformat_minor": 0,
  "metadata": {
    "colab": {
      "provenance": [],
      "authorship_tag": "ABX9TyPH13LgP6gI5gy7ERQKsqZ7",
      "include_colab_link": true
    },
    "kernelspec": {
      "name": "python3",
      "display_name": "Python 3"
    },
    "language_info": {
      "name": "python"
    }
  },
  "cells": [
    {
      "cell_type": "markdown",
      "metadata": {
        "id": "view-in-github",
        "colab_type": "text"
      },
      "source": [
        "<a href=\"https://colab.research.google.com/github/nguyenphucloc22/test/blob/main/Patients_Management_System_(PMS)_Using_Fuzzy_Logic_.ipynb\" target=\"_parent\"><img src=\"https://colab.research.google.com/assets/colab-badge.svg\" alt=\"Open In Colab\"/></a>"
      ]
    },
    {
      "cell_type": "code",
      "source": [
        "pip install scikit-fuzzy \n"
      ],
      "metadata": {
        "colab": {
          "base_uri": "https://localhost:8080/"
        },
        "id": "ZymcNbxwENwn",
        "outputId": "285c586b-443c-4d5e-9d39-9c3232d767a9"
      },
      "execution_count": 2,
      "outputs": [
        {
          "output_type": "stream",
          "name": "stdout",
          "text": [
            "Looking in indexes: https://pypi.org/simple, https://us-python.pkg.dev/colab-wheels/public/simple/\n",
            "Collecting scikit-fuzzy\n",
            "  Downloading scikit-fuzzy-0.4.2.tar.gz (993 kB)\n",
            "\u001b[2K     \u001b[90m━━━━━━━━━━━━━━━━━━━━━━━━━━━━━━━━━━━━━━\u001b[0m \u001b[32m994.0/994.0 KB\u001b[0m \u001b[31m13.3 MB/s\u001b[0m eta \u001b[36m0:00:00\u001b[0m\n",
            "\u001b[?25h  Preparing metadata (setup.py) ... \u001b[?25l\u001b[?25hdone\n",
            "Requirement already satisfied: numpy>=1.6.0 in /usr/local/lib/python3.9/dist-packages (from scikit-fuzzy) (1.22.4)\n",
            "Requirement already satisfied: scipy>=0.9.0 in /usr/local/lib/python3.9/dist-packages (from scikit-fuzzy) (1.10.1)\n",
            "Requirement already satisfied: networkx>=1.9.0 in /usr/local/lib/python3.9/dist-packages (from scikit-fuzzy) (3.0)\n",
            "Building wheels for collected packages: scikit-fuzzy\n",
            "  Building wheel for scikit-fuzzy (setup.py) ... \u001b[?25l\u001b[?25hdone\n",
            "  Created wheel for scikit-fuzzy: filename=scikit_fuzzy-0.4.2-py3-none-any.whl size=894088 sha256=470914bcca30b3bd6d1d478269bcb3445330db67c1e78717179f019324baa541\n",
            "  Stored in directory: /root/.cache/pip/wheels/32/2c/a1/a90a7d7dd8448ec029f298a61f3490275e99b17aa348be675c\n",
            "Successfully built scikit-fuzzy\n",
            "Installing collected packages: scikit-fuzzy\n",
            "Successfully installed scikit-fuzzy-0.4.2\n"
          ]
        }
      ]
    },
    {
      "cell_type": "code",
      "source": [
        "import numpy as np\n",
        "import skfuzzy.control as ctrl\n",
        "\n",
        "x_Robiul_Maruf =np.linspace(0,100,num=1000)\n",
        "x_Ananto_Nayan =np.linspace(0,100,num=1000)\n",
        "x_Sharmin_Ahmed =np.linspace(0,100,num=1000)\n",
        "x_Foysal_Moinul =np.linspace(0,100,num=1000)\n",
        "x_Shuvo_Roy =np.linspace(0,100,num=1000)\n",
        "x_Mostafiz_Rana =np.linspace(0,100,num=1000)\n",
        "x_Deep_Roy =np.linspace(0,100,num=1000)\n",
        "x_Ana_Riodas =np.linspace(0,100,num=1000)\n",
        "x_decision= np.linspace(0, 100, num=1000)\n",
        "\n",
        "Robiul_Maruf = ctrl.Antecedent(x_Robiul_Maruf, 'Robiul_Maruf')\n",
        "Ananto_Nayan= ctrl.Antecedent(x_Ananto_Nayan,'Ananto_Nayan')\n",
        "Sharmin_Ahmed= ctrl.Antecedent(x_Sharmin_Ahmed,'Sharmin_Ahmed')\n",
        "Foysal_Moinul= ctrl.Antecedent(x_Foysal_Moinul,'Foysal_Moinul')\n",
        "Shuvo_Roy= ctrl.Antecedent(x_Shuvo_Roy,'Shuvo_Roy')\n",
        "Mostafiz_Rana= ctrl.Antecedent(x_Mostafiz_Rana,'Mostafiz_Rana')\n",
        "Deep_Roy= ctrl.Antecedent(x_Deep_Roy,'Deep_Roy')\n",
        "Ana_Riodas= ctrl.Antecedent(x_Ana_Riodas,'Ana_Riodas')\n",
        "decision= ctrl.Consequent(x_decision,'decision')\n",
        "\n",
        "names_Robiul_Maruf=['low','medium','high']\n",
        "names_Ananto_Nayan=['low','medium','high']\n",
        "names_Sharmin_Ahmed=['low','medium','high']\n",
        "names_Foysal_Moinul=['low','medium','high']\n",
        "names_Shuvo_Roy=['low','medium','high']\n",
        "names_Mostafiz_Rana=['low','medium','high']\n",
        "names_Deep_Roy=['low','medium','high']\n",
        "names_Ana_Riodas=['low','medium','high']\n",
        "names_decision=[\"normal\",\"emergency\"]\n",
        "\n",
        "Robiul_Maruf.automf(names=names_Robiul_Maruf)\n",
        "Ananto_Nayan.automf(names=names_Ananto_Nayan)\n",
        "Sharmin_Ahmed.automf(names=names_Sharmin_Ahmed)\n",
        "Foysal_Moinul.automf(names=names_Foysal_Moinul)\n",
        "Shuvo_Roy.automf(names=names_Shuvo_Roy)\n",
        "Mostafiz_Rana.automf(names=names_Mostafiz_Rana)\n",
        "Deep_Roy.automf(names=names_Deep_Roy)\n",
        "Ana_Riodas.automf(names=names_Ana_Riodas)\n",
        "decision.automf(names=names_decision)\n",
        "\n",
        "rule1 = ctrl.Rule(Robiul_Maruf['low'] & Ananto_Nayan ['low'] & Sharmin_Ahmed ['low'] & Foysal_Moinul ['low'] & Shuvo_Roy ['low'] & Mostafiz_Rana ['low'] & Deep_Roy ['low'] & Ana_Riodas ['low'], decision['normal'])\n",
        "rule2 = ctrl.Rule(Robiul_Maruf['low'] & Ananto_Nayan ['medium'] & Sharmin_Ahmed ['low'] & Foysal_Moinul ['low'] & Shuvo_Roy ['low'] & Mostafiz_Rana ['low'] & Deep_Roy ['low'] & Ana_Riodas ['low'], decision['normal'])\n",
        "rule3 = ctrl.Rule(Robiul_Maruf['low'] & Ananto_Nayan ['low'] & Sharmin_Ahmed ['medium'] & Foysal_Moinul ['low'] & Shuvo_Roy ['high'] & Mostafiz_Rana ['low'] & Deep_Roy ['low'] & Ana_Riodas ['low'], decision['normal'])\n",
        "rule4 = ctrl.Rule(Robiul_Maruf['low'] & Ananto_Nayan ['low'] & Sharmin_Ahmed ['low'] & Foysal_Moinul ['medium'] & Shuvo_Roy ['low'] & Mostafiz_Rana ['low'] & Deep_Roy ['low'] & Ana_Riodas ['low'], decision['normal'])\n",
        "rule5 = ctrl.Rule(Robiul_Maruf['low'] & Ananto_Nayan ['low'] & Sharmin_Ahmed ['low'] & Foysal_Moinul ['low'] & Shuvo_Roy ['medium'] & Mostafiz_Rana ['low'] & Deep_Roy ['low'] & Ana_Riodas ['low'], decision['normal'])\n",
        "rule6 = ctrl.Rule(Robiul_Maruf['low'] & Ananto_Nayan ['low'] & Sharmin_Ahmed ['medium'] & Foysal_Moinul ['low'] & Shuvo_Roy ['low'] & Mostafiz_Rana ['medium'] & Deep_Roy ['low'] & Ana_Riodas ['low'], decision['normal'])\n",
        "rule7 = ctrl.Rule(Robiul_Maruf['low'] & Ananto_Nayan ['low'] & Sharmin_Ahmed ['low'] & Foysal_Moinul ['medium'] & Shuvo_Roy ['low'] & Mostafiz_Rana ['low'] & Deep_Roy ['medium'] & Ana_Riodas ['low'], decision['normal'])\n",
        "rule8 = ctrl.Rule(Robiul_Maruf['low'] & Ananto_Nayan ['low'] & Sharmin_Ahmed ['low'] & Foysal_Moinul ['low'] & Shuvo_Roy ['low'] & Mostafiz_Rana ['medium'] & Deep_Roy ['low'] & Ana_Riodas ['medium'], decision['normal'])\n",
        "\n",
        "rule9 = ctrl.Rule(Robiul_Maruf['medium'] & Ananto_Nayan ['low'] & Sharmin_Ahmed ['low'] & Foysal_Moinul ['high'] & Shuvo_Roy ['low'] & Mostafiz_Rana ['medium'] & Deep_Roy ['medium'] & Ana_Riodas ['low'], decision['normal'])\n",
        "rule10 = ctrl.Rule(Robiul_Maruf['medium'] & Ananto_Nayan ['medium'] & Sharmin_Ahmed ['low'] & Foysal_Moinul ['low'] & Shuvo_Roy ['low'] & Mostafiz_Rana ['low'] & Deep_Roy ['low'] & Ana_Riodas ['low'], decision['normal'])\n",
        "rule11 = ctrl.Rule(Robiul_Maruf['medium'] & Ananto_Nayan ['high'] & Sharmin_Ahmed ['medium'] & Foysal_Moinul ['medium'] & Shuvo_Roy ['low'] & Mostafiz_Rana ['medium'] & Deep_Roy ['high'] & Ana_Riodas ['high'], decision['normal'])\n",
        "rule12 = ctrl.Rule(Robiul_Maruf['medium'] & Ananto_Nayan ['low'] & Sharmin_Ahmed ['low'] & Foysal_Moinul ['medium'] & Shuvo_Roy ['low'] & Mostafiz_Rana ['low'] & Deep_Roy ['low'] & Ana_Riodas ['low'], decision['normal'])\n",
        "rule13 = ctrl.Rule(Robiul_Maruf['medium'] & Ananto_Nayan ['high'] & Sharmin_Ahmed ['low'] & Foysal_Moinul ['low'] & Shuvo_Roy ['medium'] & Mostafiz_Rana ['low'] & Deep_Roy ['high'] & Ana_Riodas ['low'], decision['normal'])\n",
        "rule14= ctrl.Rule(Robiul_Maruf['medium'] & Ananto_Nayan ['low'] & Sharmin_Ahmed ['high'] & Foysal_Moinul ['low'] & Shuvo_Roy ['low'] & Mostafiz_Rana ['medium'] & Deep_Roy ['low'] & Ana_Riodas ['low'], decision['normal'])\n",
        "rule15= ctrl.Rule(Robiul_Maruf['medium'] & Ananto_Nayan ['high'] & Sharmin_Ahmed ['low'] & Foysal_Moinul ['high'] & Shuvo_Roy ['high'] & Mostafiz_Rana ['low'] & Deep_Roy ['medium'] & Ana_Riodas ['low'], decision['normal'])\n",
        "rule16= ctrl.Rule(Robiul_Maruf['medium'] & Ananto_Nayan ['low'] & Sharmin_Ahmed ['low'] & Foysal_Moinul ['low'] & Shuvo_Roy ['low'] & Mostafiz_Rana ['medium'] & Deep_Roy ['low'] & Ana_Riodas ['medium'], decision['normal'])\n",
        "\n",
        "rule17 = ctrl.Rule(Robiul_Maruf['medium'] & Ananto_Nayan ['low'] & Sharmin_Ahmed ['low'] & Foysal_Moinul ['high'] & Shuvo_Roy ['low'] & Mostafiz_Rana ['medium'] & Deep_Roy ['medium'] & Ana_Riodas ['low'], decision['normal'])\n",
        "rule18 = ctrl.Rule(Robiul_Maruf['medium'] & Ananto_Nayan ['medium'] & Sharmin_Ahmed ['low'] & Foysal_Moinul ['low'] & Shuvo_Roy ['low'] & Mostafiz_Rana ['high'] & Deep_Roy ['low'] & Ana_Riodas ['low'], decision['normal'])\n",
        "rule19 = ctrl.Rule(Robiul_Maruf['medium'] & Ananto_Nayan ['high'] & Sharmin_Ahmed ['medium'] & Foysal_Moinul ['low'] & Shuvo_Roy ['low'] & Mostafiz_Rana ['medium'] & Deep_Roy ['low'] & Ana_Riodas ['high'], decision['normal'])\n",
        "rule20 = ctrl.Rule(Robiul_Maruf['medium'] & Ananto_Nayan ['medium'] & Sharmin_Ahmed ['low'] & Foysal_Moinul ['medium'] & Shuvo_Roy ['low'] & Mostafiz_Rana ['low'] & Deep_Roy ['low'] & Ana_Riodas ['low'], decision['normal'])\n",
        "rule21 = ctrl.Rule(Robiul_Maruf['medium'] & Ananto_Nayan ['high'] & Sharmin_Ahmed ['medium'] & Foysal_Moinul ['low'] & Shuvo_Roy ['medium'] & Mostafiz_Rana ['low'] & Deep_Roy ['high'] & Ana_Riodas ['low'], decision['normal'])\n",
        "rule22= ctrl.Rule(Robiul_Maruf['medium'] & Ananto_Nayan ['high'] & Sharmin_Ahmed ['high'] & Foysal_Moinul ['medium'] & Shuvo_Roy ['high'] & Mostafiz_Rana ['medium'] & Deep_Roy ['low'] & Ana_Riodas ['low'], decision['emergency'])\n",
        "rule23= ctrl.Rule(Robiul_Maruf['medium'] & Ananto_Nayan ['high'] & Sharmin_Ahmed ['medium'] & Foysal_Moinul ['high'] & Shuvo_Roy ['high'] & Mostafiz_Rana ['low'] & Deep_Roy ['medium'] & Ana_Riodas ['low'], decision['normal'])\n",
        "rule24= ctrl.Rule(Robiul_Maruf['medium'] & Ananto_Nayan ['low'] & Sharmin_Ahmed ['high'] & Foysal_Moinul ['low'] & Shuvo_Roy ['low'] & Mostafiz_Rana ['medium'] & Deep_Roy ['low'] & Ana_Riodas ['medium'], decision['normal'])\n",
        "\n",
        "rule25 = ctrl.Rule(Robiul_Maruf['high'] & Ananto_Nayan ['high'] & Sharmin_Ahmed ['high'] & Foysal_Moinul ['high'] & Shuvo_Roy ['high'] & Mostafiz_Rana ['high'] & Deep_Roy ['high'] & Ana_Riodas ['high'], decision['emergency'])\n",
        "rule26 = ctrl.Rule(Robiul_Maruf['high'] & Ananto_Nayan ['medium'] & Sharmin_Ahmed ['high'] & Foysal_Moinul ['high'] & Shuvo_Roy ['high'] & Mostafiz_Rana ['high'] & Deep_Roy ['high'] & Ana_Riodas ['high'], decision['emergency'])\n",
        "rule27 = ctrl.Rule(Robiul_Maruf['high'] & Ananto_Nayan ['high'] & Sharmin_Ahmed ['medium'] & Foysal_Moinul ['high'] & Shuvo_Roy ['medium'] & Mostafiz_Rana ['medium'] & Deep_Roy ['low'] & Ana_Riodas ['high'], decision['emergency'])\n",
        "rule28 = ctrl.Rule(Robiul_Maruf['high'] & Ananto_Nayan ['medium'] & Sharmin_Ahmed ['low'] & Foysal_Moinul ['medium'] & Shuvo_Roy ['low'] & Mostafiz_Rana ['high'] & Deep_Roy ['high'] & Ana_Riodas ['high'], decision['normal'])\n",
        "rule29 = ctrl.Rule(Robiul_Maruf['high'] & Ananto_Nayan ['high'] & Sharmin_Ahmed ['medium'] & Foysal_Moinul ['high'] & Shuvo_Roy ['medium'] & Mostafiz_Rana ['low'] & Deep_Roy ['high'] & Ana_Riodas ['medium'], decision['emergency'])\n",
        "rule30= ctrl.Rule(Robiul_Maruf['high'] & Ananto_Nayan ['high'] & Sharmin_Ahmed ['high'] & Foysal_Moinul ['low'] & Shuvo_Roy ['low'] & Mostafiz_Rana ['medium'] & Deep_Roy ['low'] & Ana_Riodas ['low'], decision['normal'])\n",
        "rule31= ctrl.Rule(Robiul_Maruf['high'] & Ananto_Nayan ['high'] & Sharmin_Ahmed ['low'] & Foysal_Moinul ['high'] & Shuvo_Roy ['high'] & Mostafiz_Rana ['low'] & Deep_Roy ['medium'] & Ana_Riodas ['low'], decision['normal'])\n",
        "rule32= ctrl.Rule(Robiul_Maruf['high'] & Ananto_Nayan ['medium'] & Sharmin_Ahmed ['high'] & Foysal_Moinul ['medium'] & Shuvo_Roy ['low'] & Mostafiz_Rana ['medium'] & Deep_Roy ['low'] & Ana_Riodas ['medium'], decision['normal'])\n",
        "\n",
        "rule33 = ctrl.Rule(Robiul_Maruf['high'] & Ananto_Nayan ['medium'] & Sharmin_Ahmed ['high'] & Foysal_Moinul ['high'] & Shuvo_Roy ['medium'] & Mostafiz_Rana ['medium'] & Deep_Roy ['medium'] & Ana_Riodas ['high'], decision['normal'])\n",
        "rule34 = ctrl.Rule(Robiul_Maruf['high'] & Ananto_Nayan ['high'] & Sharmin_Ahmed ['low'] & Foysal_Moinul ['high'] & Shuvo_Roy ['high'] & Mostafiz_Rana ['high'] & Deep_Roy ['medium'] & Ana_Riodas ['medium'], decision['emergency'])\n",
        "rule35 = ctrl.Rule(Robiul_Maruf['high'] & Ananto_Nayan ['high'] & Sharmin_Ahmed ['medium'] & Foysal_Moinul ['low'] & Shuvo_Roy ['high'] & Mostafiz_Rana ['medium'] & Deep_Roy ['high'] & Ana_Riodas ['high'], decision['emergency'])\n",
        "rule36 = ctrl.Rule(Robiul_Maruf['high'] & Ananto_Nayan ['low'] & Sharmin_Ahmed ['low'] & Foysal_Moinul ['medium'] & Shuvo_Roy ['low'] & Mostafiz_Rana ['low'] & Deep_Roy ['high'] & Ana_Riodas ['high'], decision['emergency'])\n",
        "rule37 = ctrl.Rule(Robiul_Maruf['high'] & Ananto_Nayan ['medium'] & Sharmin_Ahmed ['medium'] & Foysal_Moinul ['high'] & Shuvo_Roy ['medium'] & Mostafiz_Rana ['low'] & Deep_Roy ['high'] & Ana_Riodas ['low'], decision['normal'])\n",
        "rule38= ctrl.Rule(Robiul_Maruf['high'] & Ananto_Nayan ['high'] & Sharmin_Ahmed ['high'] & Foysal_Moinul ['low'] & Shuvo_Roy ['low'] & Mostafiz_Rana ['medium'] & Deep_Roy ['high'] & Ana_Riodas ['low'], decision['emergency'])\n",
        "rule39= ctrl.Rule(Robiul_Maruf['high'] & Ananto_Nayan ['high'] & Sharmin_Ahmed ['high'] & Foysal_Moinul ['high'] & Shuvo_Roy ['high'] & Mostafiz_Rana ['high'] & Deep_Roy ['medium'] & Ana_Riodas ['low'], decision['emergency'])\n",
        "rule40= ctrl.Rule(Robiul_Maruf['high'] & Ananto_Nayan ['low'] & Sharmin_Ahmed ['high'] & Foysal_Moinul ['high'] & Shuvo_Roy ['low'] & Mostafiz_Rana ['medium'] & Deep_Roy ['high'] & Ana_Riodas ['medium'], decision['emergency'])\n",
        "\n",
        "system_ctrl= ctrl.ControlSystem(rules=[rule1, rule1, rule2, rule3, rule4, rule5,rule6, rule7, rule8, rule9, rule10, rule11, rule12, rule13, rule14, rule15, rule16, rule18, rule19, rule20, rule21, rule22, rule23, rule24, rule25,rule26, rule27, rule28, rule29, rule30, rule31, rule32, rule33, rule34, rule35, rule36, rule37, rule38, rule39, rule40])\n",
        "system=ctrl.ControlSystemSimulation(system_ctrl)\n",
        "system.input['Robiul_Maruf']=90\n",
        "system.input['Ananto_Nayan']=68\n",
        "system.input['Sharmin_Ahmed']=90\n",
        "system.input['Foysal_Moinul']=60\n",
        "system.input['Shuvo_Roy']=98\n",
        "system.input['Mostafiz_Rana']=90\n",
        "system.input['Deep_Roy']=90\n",
        "system.input['Ana_Riodas']=90\n",
        "\n",
        "system.compute()\n",
        "print(system.output['decision'])\n",
        "decision.view(sim=system)\n",
        "\n"
      ],
      "metadata": {
        "colab": {
          "base_uri": "https://localhost:8080/",
          "height": 298
        },
        "id": "i4S4zeRLI670",
        "outputId": "a591f7b7-8880-456c-eb5f-dd752f7a9648"
      },
      "execution_count": 12,
      "outputs": [
        {
          "output_type": "stream",
          "name": "stdout",
          "text": [
            "54.57816570628796\n"
          ]
        },
        {
          "output_type": "display_data",
          "data": {
            "text/plain": [
              "<Figure size 432x288 with 1 Axes>"
            ],
            "image/png": "[encoded data removed]"
          },
          "metadata": {
            "needs_background": "light"
          }
        }
      ]
    }
  ]
}