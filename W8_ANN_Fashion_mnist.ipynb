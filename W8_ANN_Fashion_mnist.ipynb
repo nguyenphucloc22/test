{
  "nbformat": 4,
  "nbformat_minor": 0,
  "metadata": {
    "colab": {
      "provenance": [],
      "authorship_tag": "ABX9TyPY20ATH79MuEb5J/5dLk+e",
      "include_colab_link": true
    },
    "kernelspec": {
      "name": "python3",
      "display_name": "Python 3"
    },
    "language_info": {
      "name": "python"
    }
  },
  "cells": [
    {
      "cell_type": "markdown",
      "metadata": {
        "id": "view-in-github",
        "colab_type": "text"
      },
      "source": [
        "<a href=\"https://colab.research.google.com/github/nguyenphucloc22/test/blob/main/W8_ANN_Fashion_mnist.ipynb\" target=\"_parent\"><img src=\"https://colab.research.google.com/assets/colab-badge.svg\" alt=\"Open In Colab\"/></a>"
      ]
    },
    {
      "cell_type": "code",
      "execution_count": 1,
      "metadata": {
        "id": "NtTjs6rrZeOs"
      },
      "outputs": [],
      "source": [
        "import tensorflow as tf\n",
        "from tensorflow import keras\n",
        "import matplotlib.pyplot as plt\n",
        "import numpy as np"
      ]
    },
    {
      "cell_type": "code",
      "source": [
        "(train_images, train_labels), (test_images, test_labels) = keras.datasets.fashion_mnist.load_data()"
      ],
      "metadata": {
        "colab": {
          "base_uri": "https://localhost:8080/"
        },
        "id": "H1SMrI4kZxSA",
        "outputId": "79835b5d-a54e-4c46-8473-d984e40ca9c9"
      },
      "execution_count": 2,
      "outputs": [
        {
          "output_type": "stream",
          "name": "stdout",
          "text": [
            "Downloading data from https://storage.googleapis.com/tensorflow/tf-keras-datasets/train-labels-idx1-ubyte.gz\n",
            "29515/29515 [==============================] - 0s 0us/step\n",
            "Downloading data from https://storage.googleapis.com/tensorflow/tf-keras-datasets/train-images-idx3-ubyte.gz\n",
            "26421880/26421880 [==============================] - 0s 0us/step\n",
            "Downloading data from https://storage.googleapis.com/tensorflow/tf-keras-datasets/t10k-labels-idx1-ubyte.gz\n",
            "5148/5148 [==============================] - 0s 0us/step\n",
            "Downloading data from https://storage.googleapis.com/tensorflow/tf-keras-datasets/t10k-images-idx3-ubyte.gz\n",
            "4422102/4422102 [==============================] - 0s 0us/step\n"
          ]
        }
      ]
    },
    {
      "cell_type": "code",
      "source": [
        "train_images.shape, test_images.shape"
      ],
      "metadata": {
        "colab": {
          "base_uri": "https://localhost:8080/"
        },
        "id": "hyrSJNSfZ1lq",
        "outputId": "95ac0546-1412-400e-ba86-9b5217bb81fd"
      },
      "execution_count": 3,
      "outputs": [
        {
          "output_type": "execute_result",
          "data": {
            "text/plain": [
              "((60000, 28, 28), (10000, 28, 28))"
            ]
          },
          "metadata": {},
          "execution_count": 3
        }
      ]
    },
    {
      "cell_type": "code",
      "source": [
        "class_name = [\"T-shirt/top\", \"Trouser\", \"Pullover\", \"Dress\", \"Coat\", \"Sandal\", \"Shirt\", \"Sneaker\", \"Bag\", \"Ankle boot\"]\n",
        "for i in range(15):\n",
        "  plt.subplot(3,5,i+1)\n",
        "  plt.tight_layout()\n",
        "  plt.imshow(train_images[i], cmap='gray', interpolation='none')\n",
        "  plt.title('{}'.format(class_name[train_labels[i]]))\n",
        "  plt.xticks([])\n",
        "  plt.yticks([])"
      ],
      "metadata": {
        "colab": {
          "base_uri": "https://localhost:8080/",
          "height": 270
        },
        "id": "2YjdDAxTZ7sm",
        "outputId": "df68ad86-caa1-4699-f6b4-db2f35908a03"
      },
      "execution_count": 4,
      "outputs": [
        {
          "output_type": "display_data",
          "data": {
            "text/plain": [
              "<Figure size 432x288 with 15 Axes>"
            ],
            "image/png": "[encoded data removed]"
          },
          "metadata": {}
        }
      ]
    },
    {
      "cell_type": "code",
      "source": [
        "train_images = train_images.reshape((60000,28*28)) \n",
        "train_images = train_images.astype('float32')/255 \n",
        "test_images =  test_images.reshape((10000, 28*28)) \n",
        "test_images = test_images.astype('float32')/255\n",
        "train_images.shape"
      ],
      "metadata": {
        "colab": {
          "base_uri": "https://localhost:8080/"
        },
        "id": "5Zw3uNANZ-hx",
        "outputId": "86cf2189-4ce2-4f8f-dd92-e76f8f1c8fd9"
      },
      "execution_count": 5,
      "outputs": [
        {
          "output_type": "execute_result",
          "data": {
            "text/plain": [
              "(60000, 784)"
            ]
          },
          "metadata": {},
          "execution_count": 5
        }
      ]
    },
    {
      "cell_type": "code",
      "source": [
        "train_labels = keras.utils.to_categorical(train_labels, 10) \n",
        "test_labels = keras.utils.to_categorical(test_labels, 10)\n",
        "print(train_labels.shape)\n",
        "print(test_labels.shape)"
      ],
      "metadata": {
        "colab": {
          "base_uri": "https://localhost:8080/"
        },
        "id": "zoci_RAnaF5J",
        "outputId": "58bce1ce-9611-4187-d668-92a09522708e"
      },
      "execution_count": 6,
      "outputs": [
        {
          "output_type": "stream",
          "name": "stdout",
          "text": [
            "(60000, 10)\n",
            "(10000, 10)\n"
          ]
        }
      ]
    },
    {
      "cell_type": "code",
      "source": [
        "from keras.models import Sequential\n",
        "from keras.layers import Dense\n",
        "model = Sequential()\n",
        "model.add(Dense(512,input_shape = (784,), activation='relu', name=\"Layer_1\"))\n",
        "model.add(Dense(256, activation='relu', name=\"Layer_2\"))\n",
        "model.add(Dense(128, activation='relu', name=\"Layer_3\"))\n",
        "model.add(Dense(10,activation='softmax', name = \"Output_layer\"))\n",
        "print(model.summary())"
      ],
      "metadata": {
        "colab": {
          "base_uri": "https://localhost:8080/"
        },
        "id": "sKfv0OiGaOci",
        "outputId": "42ec6f17-ab1e-46b6-8c5f-1f92b87da077"
      },
      "execution_count": 7,
      "outputs": [
        {
          "output_type": "stream",
          "name": "stdout",
          "text": [
            "Model: \"sequential\"\n",
            "_________________________________________________________________\n",
            " Layer (type)                Output Shape              Param #   \n",
            "=================================================================\n",
            " Layer_1 (Dense)             (None, 512)               401920    \n",
            "                                                                 \n",
            " Layer_2 (Dense)             (None, 256)               131328    \n",
            "                                                                 \n",
            " Layer_3 (Dense)             (None, 128)               32896     \n",
            "                                                                 \n",
            " Output_layer (Dense)        (None, 10)                1290      \n",
            "                                                                 \n",
            "=================================================================\n",
            "Total params: 567,434\n",
            "Trainable params: 567,434\n",
            "Non-trainable params: 0\n",
            "_________________________________________________________________\n",
            "None\n"
          ]
        }
      ]
    },
    {
      "cell_type": "code",
      "source": [
        "model.compile(optimizer='rmsprop', loss='categorical_crossentropy',metrics=['accuracy'])\n",
        "model.fit(train_images, train_labels, epochs=10, batch_size=128)\n",
        "test_loss, test_acc = model.evaluate(test_images, test_labels)\n",
        "print(\"test_accuracy\",test_acc)\n",
        "print(\"test_loss\", test_loss)"
      ],
      "metadata": {
        "colab": {
          "base_uri": "https://localhost:8080/"
        },
        "id": "suugjW_iakdx",
        "outputId": "5406877c-fc5b-46b6-89ba-4c0b177bab65"
      },
      "execution_count": 9,
      "outputs": [
        {
          "output_type": "stream",
          "name": "stdout",
          "text": [
            "Epoch 1/10\n",
            "469/469 [==============================] - 5s 11ms/step - loss: 0.2295 - accuracy: 0.9132\n",
            "Epoch 2/10\n",
            "469/469 [==============================] - 5s 10ms/step - loss: 0.2224 - accuracy: 0.9161\n",
            "Epoch 3/10\n",
            "469/469 [==============================] - 4s 10ms/step - loss: 0.2156 - accuracy: 0.9183\n",
            "Epoch 4/10\n",
            "469/469 [==============================] - 5s 11ms/step - loss: 0.2113 - accuracy: 0.9190\n",
            "Epoch 5/10\n",
            "469/469 [==============================] - 4s 10ms/step - loss: 0.2071 - accuracy: 0.9218\n",
            "Epoch 6/10\n",
            "469/469 [==============================] - 5s 11ms/step - loss: 0.2037 - accuracy: 0.9229\n",
            "Epoch 7/10\n",
            "469/469 [==============================] - 4s 10ms/step - loss: 0.1994 - accuracy: 0.9242\n",
            "Epoch 8/10\n",
            "469/469 [==============================] - 4s 10ms/step - loss: 0.1961 - accuracy: 0.9262\n",
            "Epoch 9/10\n",
            "469/469 [==============================] - 5s 11ms/step - loss: 0.1929 - accuracy: 0.9274\n",
            "Epoch 10/10\n",
            "469/469 [==============================] - 5s 10ms/step - loss: 0.1936 - accuracy: 0.9281\n",
            "313/313 [==============================] - 1s 3ms/step - loss: 0.4287 - accuracy: 0.8917\n",
            "test_accuracy 0.891700029373169\n",
            "test_loss 0.42869287729263306\n"
          ]
        }
      ]
    }
  ]
}